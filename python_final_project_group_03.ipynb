{
 "cells": [
  {
   "cell_type": "markdown",
   "metadata": {
    "id": "8X9UiWroS006"
   },
   "source": [
    "```\n",
    "Student-1\n",
    "Name: Fahim Wayez\n",
    "ID# 21-44499-1\n",
    "```\n",
    "\n",
    "```\n",
    "Student-2\n",
    "Name: MD. Ferdous Sazid\n",
    "ID# 21-44455-1\n",
    "```"
   ]
  },
  {
   "cell_type": "markdown",
   "metadata": {
    "id": "_6BgKVmW33zY"
   },
   "source": [
    "\n",
    "\n",
    "*   Mount your google drive.\n",
    "\n"
   ]
  },
  {
   "cell_type": "code",
   "execution_count": 4,
   "metadata": {
    "executionInfo": {
     "elapsed": 8,
     "status": "ok",
     "timestamp": 1702750911806,
     "user": {
      "displayName": "Abdus Salam",
      "userId": "07118743772361720296"
     },
     "user_tz": -660
    },
    "id": "hCe14AL95HJg"
   },
   "outputs": [],
   "source": [
    "# mount google drive if you are using Colab\n",
    "# otherewise, leave it blank\n",
    "\n",
    "# start writing your code here\n"
   ]
  },
  {
   "cell_type": "markdown",
   "metadata": {
    "id": "UPmu3D0D4ATq"
   },
   "source": [
    "\n",
    "\n",
    "*   Import necessary libraries.\n",
    "\n"
   ]
  },
  {
   "cell_type": "code",
   "execution_count": 3,
   "metadata": {
    "id": "AIJ_9jfN-nHz"
   },
   "outputs": [],
   "source": [
    "# load/import all required library\n",
    "\n",
    "# start writing your code here\n",
    "import pandas as pd\n"
   ]
  },
  {
   "cell_type": "markdown",
   "metadata": {
    "id": "GzuiaVZWTk14"
   },
   "source": [
    "•\t**Task 1:** Read/Load the dataset file in your program. Use Pandas library to complete this task."
   ]
  },
  {
   "cell_type": "code",
   "execution_count": 4,
   "metadata": {
    "executionInfo": {
     "elapsed": 5,
     "status": "ok",
     "timestamp": 1702751160455,
     "user": {
      "displayName": "Abdus Salam",
      "userId": "07118743772361720296"
     },
     "user_tz": -660
    },
    "id": "ODTUUpfd5RmF"
   },
   "outputs": [
    {
     "data": {
      "text/html": [
       "<div>\n",
       "<style scoped>\n",
       "    .dataframe tbody tr th:only-of-type {\n",
       "        vertical-align: middle;\n",
       "    }\n",
       "\n",
       "    .dataframe tbody tr th {\n",
       "        vertical-align: top;\n",
       "    }\n",
       "\n",
       "    .dataframe thead th {\n",
       "        text-align: right;\n",
       "    }\n",
       "</style>\n",
       "<table border=\"1\" class=\"dataframe\">\n",
       "  <thead>\n",
       "    <tr style=\"text-align: right;\">\n",
       "      <th></th>\n",
       "      <th>Key Id</th>\n",
       "      <th>Tournament Id</th>\n",
       "      <th>tournament Name</th>\n",
       "      <th>Match Id</th>\n",
       "      <th>Match Name</th>\n",
       "      <th>Stage Name</th>\n",
       "      <th>Group Name</th>\n",
       "      <th>Group Stage</th>\n",
       "      <th>Knockout Stage</th>\n",
       "      <th>Replayed</th>\n",
       "      <th>...</th>\n",
       "      <th>Away Team Score Margin</th>\n",
       "      <th>Extra Time</th>\n",
       "      <th>Penalty Shootout</th>\n",
       "      <th>Score Penalties</th>\n",
       "      <th>Home Team Score Penalties</th>\n",
       "      <th>Away Team Score Penalties</th>\n",
       "      <th>Result</th>\n",
       "      <th>Home Team Win</th>\n",
       "      <th>Away Team Win</th>\n",
       "      <th>Draw</th>\n",
       "    </tr>\n",
       "  </thead>\n",
       "  <tbody>\n",
       "    <tr>\n",
       "      <th>0</th>\n",
       "      <td>1</td>\n",
       "      <td>WC-1930</td>\n",
       "      <td>1930 FIFA World Cup</td>\n",
       "      <td>M-1930-01</td>\n",
       "      <td>France v Mexico</td>\n",
       "      <td>group stage</td>\n",
       "      <td>Group 1</td>\n",
       "      <td>1</td>\n",
       "      <td>0</td>\n",
       "      <td>0</td>\n",
       "      <td>...</td>\n",
       "      <td>-3</td>\n",
       "      <td>0</td>\n",
       "      <td>0</td>\n",
       "      <td>0-0</td>\n",
       "      <td>0</td>\n",
       "      <td>0</td>\n",
       "      <td>home team win</td>\n",
       "      <td>1</td>\n",
       "      <td>0</td>\n",
       "      <td>0</td>\n",
       "    </tr>\n",
       "    <tr>\n",
       "      <th>1</th>\n",
       "      <td>2</td>\n",
       "      <td>WC-1930</td>\n",
       "      <td>1930 FIFA World Cup</td>\n",
       "      <td>M-1930-02</td>\n",
       "      <td>United States v Belgium</td>\n",
       "      <td>group stage</td>\n",
       "      <td>Group 4</td>\n",
       "      <td>1</td>\n",
       "      <td>0</td>\n",
       "      <td>0</td>\n",
       "      <td>...</td>\n",
       "      <td>-3</td>\n",
       "      <td>0</td>\n",
       "      <td>0</td>\n",
       "      <td>0-0</td>\n",
       "      <td>0</td>\n",
       "      <td>0</td>\n",
       "      <td>home team win</td>\n",
       "      <td>1</td>\n",
       "      <td>0</td>\n",
       "      <td>0</td>\n",
       "    </tr>\n",
       "    <tr>\n",
       "      <th>2</th>\n",
       "      <td>3</td>\n",
       "      <td>WC-1930</td>\n",
       "      <td>1930 FIFA World Cup</td>\n",
       "      <td>M-1930-03</td>\n",
       "      <td>Yugoslavia v Brazil</td>\n",
       "      <td>group stage</td>\n",
       "      <td>Group 2</td>\n",
       "      <td>1</td>\n",
       "      <td>0</td>\n",
       "      <td>0</td>\n",
       "      <td>...</td>\n",
       "      <td>-1</td>\n",
       "      <td>0</td>\n",
       "      <td>0</td>\n",
       "      <td>0-0</td>\n",
       "      <td>0</td>\n",
       "      <td>0</td>\n",
       "      <td>home team win</td>\n",
       "      <td>1</td>\n",
       "      <td>0</td>\n",
       "      <td>0</td>\n",
       "    </tr>\n",
       "    <tr>\n",
       "      <th>3</th>\n",
       "      <td>4</td>\n",
       "      <td>WC-1930</td>\n",
       "      <td>1930 FIFA World Cup</td>\n",
       "      <td>M-1930-04</td>\n",
       "      <td>Romania v Peru</td>\n",
       "      <td>group stage</td>\n",
       "      <td>Group 3</td>\n",
       "      <td>1</td>\n",
       "      <td>0</td>\n",
       "      <td>0</td>\n",
       "      <td>...</td>\n",
       "      <td>-2</td>\n",
       "      <td>0</td>\n",
       "      <td>0</td>\n",
       "      <td>0-0</td>\n",
       "      <td>0</td>\n",
       "      <td>0</td>\n",
       "      <td>home team win</td>\n",
       "      <td>1</td>\n",
       "      <td>0</td>\n",
       "      <td>0</td>\n",
       "    </tr>\n",
       "    <tr>\n",
       "      <th>4</th>\n",
       "      <td>5</td>\n",
       "      <td>WC-1930</td>\n",
       "      <td>1930 FIFA World Cup</td>\n",
       "      <td>M-1930-05</td>\n",
       "      <td>Argentina v France</td>\n",
       "      <td>group stage</td>\n",
       "      <td>Group 1</td>\n",
       "      <td>1</td>\n",
       "      <td>0</td>\n",
       "      <td>0</td>\n",
       "      <td>...</td>\n",
       "      <td>-1</td>\n",
       "      <td>0</td>\n",
       "      <td>0</td>\n",
       "      <td>0-0</td>\n",
       "      <td>0</td>\n",
       "      <td>0</td>\n",
       "      <td>home team win</td>\n",
       "      <td>1</td>\n",
       "      <td>0</td>\n",
       "      <td>0</td>\n",
       "    </tr>\n",
       "    <tr>\n",
       "      <th>...</th>\n",
       "      <td>...</td>\n",
       "      <td>...</td>\n",
       "      <td>...</td>\n",
       "      <td>...</td>\n",
       "      <td>...</td>\n",
       "      <td>...</td>\n",
       "      <td>...</td>\n",
       "      <td>...</td>\n",
       "      <td>...</td>\n",
       "      <td>...</td>\n",
       "      <td>...</td>\n",
       "      <td>...</td>\n",
       "      <td>...</td>\n",
       "      <td>...</td>\n",
       "      <td>...</td>\n",
       "      <td>...</td>\n",
       "      <td>...</td>\n",
       "      <td>...</td>\n",
       "      <td>...</td>\n",
       "      <td>...</td>\n",
       "      <td>...</td>\n",
       "    </tr>\n",
       "    <tr>\n",
       "      <th>959</th>\n",
       "      <td>960</td>\n",
       "      <td>WC-2022</td>\n",
       "      <td>2022 FIFA World Cup</td>\n",
       "      <td>M-2022-60</td>\n",
       "      <td>England v France</td>\n",
       "      <td>quarter-finals</td>\n",
       "      <td>not applicable</td>\n",
       "      <td>0</td>\n",
       "      <td>1</td>\n",
       "      <td>0</td>\n",
       "      <td>...</td>\n",
       "      <td>1</td>\n",
       "      <td>0</td>\n",
       "      <td>0</td>\n",
       "      <td>0-0</td>\n",
       "      <td>0</td>\n",
       "      <td>0</td>\n",
       "      <td>away team win</td>\n",
       "      <td>0</td>\n",
       "      <td>1</td>\n",
       "      <td>0</td>\n",
       "    </tr>\n",
       "    <tr>\n",
       "      <th>960</th>\n",
       "      <td>961</td>\n",
       "      <td>WC-2022</td>\n",
       "      <td>2022 FIFA World Cup</td>\n",
       "      <td>M-2022-61</td>\n",
       "      <td>Argentina v Croatia</td>\n",
       "      <td>semi-finals</td>\n",
       "      <td>not applicable</td>\n",
       "      <td>0</td>\n",
       "      <td>1</td>\n",
       "      <td>0</td>\n",
       "      <td>...</td>\n",
       "      <td>-3</td>\n",
       "      <td>0</td>\n",
       "      <td>0</td>\n",
       "      <td>0-0</td>\n",
       "      <td>0</td>\n",
       "      <td>0</td>\n",
       "      <td>home team win</td>\n",
       "      <td>1</td>\n",
       "      <td>0</td>\n",
       "      <td>0</td>\n",
       "    </tr>\n",
       "    <tr>\n",
       "      <th>961</th>\n",
       "      <td>962</td>\n",
       "      <td>WC-2022</td>\n",
       "      <td>2022 FIFA World Cup</td>\n",
       "      <td>M-2022-62</td>\n",
       "      <td>France v Morocco</td>\n",
       "      <td>semi-finals</td>\n",
       "      <td>not applicable</td>\n",
       "      <td>0</td>\n",
       "      <td>1</td>\n",
       "      <td>0</td>\n",
       "      <td>...</td>\n",
       "      <td>-2</td>\n",
       "      <td>0</td>\n",
       "      <td>0</td>\n",
       "      <td>0-0</td>\n",
       "      <td>0</td>\n",
       "      <td>0</td>\n",
       "      <td>home team win</td>\n",
       "      <td>1</td>\n",
       "      <td>0</td>\n",
       "      <td>0</td>\n",
       "    </tr>\n",
       "    <tr>\n",
       "      <th>962</th>\n",
       "      <td>963</td>\n",
       "      <td>WC-2022</td>\n",
       "      <td>2022 FIFA World Cup</td>\n",
       "      <td>M-2022-63</td>\n",
       "      <td>Croatia v Morocco</td>\n",
       "      <td>third-place match</td>\n",
       "      <td>not applicable</td>\n",
       "      <td>0</td>\n",
       "      <td>1</td>\n",
       "      <td>0</td>\n",
       "      <td>...</td>\n",
       "      <td>-1</td>\n",
       "      <td>0</td>\n",
       "      <td>0</td>\n",
       "      <td>0-0</td>\n",
       "      <td>0</td>\n",
       "      <td>0</td>\n",
       "      <td>home team win</td>\n",
       "      <td>1</td>\n",
       "      <td>0</td>\n",
       "      <td>0</td>\n",
       "    </tr>\n",
       "    <tr>\n",
       "      <th>963</th>\n",
       "      <td>964</td>\n",
       "      <td>WC-2022</td>\n",
       "      <td>2022 FIFA World Cup</td>\n",
       "      <td>M-2022-64</td>\n",
       "      <td>Argentina v France</td>\n",
       "      <td>final</td>\n",
       "      <td>not applicable</td>\n",
       "      <td>0</td>\n",
       "      <td>1</td>\n",
       "      <td>0</td>\n",
       "      <td>...</td>\n",
       "      <td>0</td>\n",
       "      <td>1</td>\n",
       "      <td>1</td>\n",
       "      <td>4–2</td>\n",
       "      <td>4</td>\n",
       "      <td>2</td>\n",
       "      <td>home team win</td>\n",
       "      <td>1</td>\n",
       "      <td>0</td>\n",
       "      <td>0</td>\n",
       "    </tr>\n",
       "  </tbody>\n",
       "</table>\n",
       "<p>964 rows × 37 columns</p>\n",
       "</div>"
      ],
      "text/plain": [
       "     Key Id Tournament Id      tournament Name   Match Id  \\\n",
       "0         1       WC-1930  1930 FIFA World Cup  M-1930-01   \n",
       "1         2       WC-1930  1930 FIFA World Cup  M-1930-02   \n",
       "2         3       WC-1930  1930 FIFA World Cup  M-1930-03   \n",
       "3         4       WC-1930  1930 FIFA World Cup  M-1930-04   \n",
       "4         5       WC-1930  1930 FIFA World Cup  M-1930-05   \n",
       "..      ...           ...                  ...        ...   \n",
       "959     960       WC-2022  2022 FIFA World Cup  M-2022-60   \n",
       "960     961       WC-2022  2022 FIFA World Cup  M-2022-61   \n",
       "961     962       WC-2022  2022 FIFA World Cup  M-2022-62   \n",
       "962     963       WC-2022  2022 FIFA World Cup  M-2022-63   \n",
       "963     964       WC-2022  2022 FIFA World Cup  M-2022-64   \n",
       "\n",
       "                  Match Name         Stage Name      Group Name  Group Stage  \\\n",
       "0            France v Mexico        group stage         Group 1            1   \n",
       "1    United States v Belgium        group stage         Group 4            1   \n",
       "2        Yugoslavia v Brazil        group stage         Group 2            1   \n",
       "3             Romania v Peru        group stage         Group 3            1   \n",
       "4         Argentina v France        group stage         Group 1            1   \n",
       "..                       ...                ...             ...          ...   \n",
       "959         England v France     quarter-finals  not applicable            0   \n",
       "960      Argentina v Croatia        semi-finals  not applicable            0   \n",
       "961         France v Morocco        semi-finals  not applicable            0   \n",
       "962        Croatia v Morocco  third-place match  not applicable            0   \n",
       "963       Argentina v France              final  not applicable            0   \n",
       "\n",
       "     Knockout Stage  Replayed  ...  Away Team Score Margin Extra Time  \\\n",
       "0                 0         0  ...                      -3          0   \n",
       "1                 0         0  ...                      -3          0   \n",
       "2                 0         0  ...                      -1          0   \n",
       "3                 0         0  ...                      -2          0   \n",
       "4                 0         0  ...                      -1          0   \n",
       "..              ...       ...  ...                     ...        ...   \n",
       "959               1         0  ...                       1          0   \n",
       "960               1         0  ...                      -3          0   \n",
       "961               1         0  ...                      -2          0   \n",
       "962               1         0  ...                      -1          0   \n",
       "963               1         0  ...                       0          1   \n",
       "\n",
       "    Penalty Shootout Score Penalties Home Team Score Penalties  \\\n",
       "0                  0             0-0                         0   \n",
       "1                  0             0-0                         0   \n",
       "2                  0             0-0                         0   \n",
       "3                  0             0-0                         0   \n",
       "4                  0             0-0                         0   \n",
       "..               ...             ...                       ...   \n",
       "959                0             0-0                         0   \n",
       "960                0             0-0                         0   \n",
       "961                0             0-0                         0   \n",
       "962                0             0-0                         0   \n",
       "963                1             4–2                         4   \n",
       "\n",
       "    Away Team Score Penalties         Result Home Team Win Away Team Win Draw  \n",
       "0                           0  home team win             1             0    0  \n",
       "1                           0  home team win             1             0    0  \n",
       "2                           0  home team win             1             0    0  \n",
       "3                           0  home team win             1             0    0  \n",
       "4                           0  home team win             1             0    0  \n",
       "..                        ...            ...           ...           ...  ...  \n",
       "959                         0  away team win             0             1    0  \n",
       "960                         0  home team win             1             0    0  \n",
       "961                         0  home team win             1             0    0  \n",
       "962                         0  home team win             1             0    0  \n",
       "963                         2  home team win             1             0    0  \n",
       "\n",
       "[964 rows x 37 columns]"
      ]
     },
     "execution_count": 4,
     "metadata": {},
     "output_type": "execute_result"
    }
   ],
   "source": [
    "# write task-1 solution\n",
    "\n",
    "# start writing your code here\n",
    "df = pd.read_csv('projectDataset.csv', encoding='cp1252')\n",
    "df"
   ]
  },
  {
   "cell_type": "markdown",
   "metadata": {
    "id": "OI1NoXXRUlL1"
   },
   "source": [
    "•\t**Task 2:** Apply appropriate data cleaning techniques to the dataset. In this step, replace bad data using proper methods and do not delete any record except duplicate records. Use Pandas library to complete this task."
   ]
  },
  {
   "cell_type": "code",
   "execution_count": 3,
   "metadata": {
    "executionInfo": {
     "elapsed": 498,
     "status": "ok",
     "timestamp": 1702751181570,
     "user": {
      "displayName": "Abdus Salam",
      "userId": "07118743772361720296"
     },
     "user_tz": -660
    },
    "id": "rOWiXMWXUml5"
   },
   "outputs": [],
   "source": [
    "# write task-2 solution\n",
    "\n",
    "# start writing your code here"
   ]
  },
  {
   "cell_type": "markdown",
   "metadata": {
    "id": "gE4vCOLCYbyo"
   },
   "source": [
    "•\t**Task 3:** Draw graphs to analyze the frequency distributions of the features. Use Matplotlib library to complete this task."
   ]
  },
  {
   "cell_type": "code",
   "execution_count": 4,
   "metadata": {
    "executionInfo": {
     "elapsed": 616,
     "status": "ok",
     "timestamp": 1702751305651,
     "user": {
      "displayName": "Abdus Salam",
      "userId": "07118743772361720296"
     },
     "user_tz": -660
    },
    "id": "d-7CcCKOYc2c"
   },
   "outputs": [],
   "source": [
    "# write task-3 solution\n",
    "\n",
    "# start writing your code here"
   ]
  },
  {
   "cell_type": "markdown",
   "metadata": {
    "id": "1HpUmYugdwzX"
   },
   "source": [
    "•\t**Task 4:** Draw graphs to illustrate if there is any relationship between target column to any other columns of the dataset. Use Matplotlib library to complete this task."
   ]
  },
  {
   "cell_type": "code",
   "execution_count": 5,
   "metadata": {
    "executionInfo": {
     "elapsed": 4,
     "status": "ok",
     "timestamp": 1702751321327,
     "user": {
      "displayName": "Abdus Salam",
      "userId": "07118743772361720296"
     },
     "user_tz": -660
    },
    "id": "ZHh_mz-odxxs"
   },
   "outputs": [],
   "source": [
    "# write task-4 solution\n",
    "\n",
    "# start writing your code here"
   ]
  },
  {
   "cell_type": "markdown",
   "metadata": {
    "id": "Mq0z8eU8jo-_"
   },
   "source": [
    "•\t**Task 5:** Perform scaling to the features of the dataset. Remember that you will need to apply data conversion before performing scaling if it is needed."
   ]
  },
  {
   "cell_type": "code",
   "execution_count": 6,
   "metadata": {
    "executionInfo": {
     "elapsed": 564,
     "status": "ok",
     "timestamp": 1702751333458,
     "user": {
      "displayName": "Abdus Salam",
      "userId": "07118743772361720296"
     },
     "user_tz": -660
    },
    "id": "Pqt8yduljoe_"
   },
   "outputs": [],
   "source": [
    "# write task-5 solution\n",
    "\n",
    "# start writing your code here"
   ]
  },
  {
   "cell_type": "markdown",
   "metadata": {
    "id": "Ssx_k11qnMUy"
   },
   "source": [
    "•\t**Task 6:** Split your data into two parts: Training dataset and Testing dataset. You must use the function train_test_split() to complete this task and use value 123 as the value of the random_state parameter of this function."
   ]
  },
  {
   "cell_type": "code",
   "execution_count": 7,
   "metadata": {
    "executionInfo": {
     "elapsed": 485,
     "status": "ok",
     "timestamp": 1702751343228,
     "user": {
      "displayName": "Abdus Salam",
      "userId": "07118743772361720296"
     },
     "user_tz": -660
    },
    "id": "j_nxcGb_nRlV"
   },
   "outputs": [],
   "source": [
    "# write task-6 solution\n",
    "\n",
    "# start writing your code here"
   ]
  },
  {
   "cell_type": "markdown",
   "metadata": {
    "id": "IyzumDR6pFBe"
   },
   "source": [
    "•\t**Task 7:** Apply Naïve Bayes Classifier to the dataset. Build (train) your prediction model in this step."
   ]
  },
  {
   "cell_type": "code",
   "execution_count": 8,
   "metadata": {
    "executionInfo": {
     "elapsed": 7,
     "status": "ok",
     "timestamp": 1702751351402,
     "user": {
      "displayName": "Abdus Salam",
      "userId": "07118743772361720296"
     },
     "user_tz": -660
    },
    "id": "cFGx6ugvpEtz"
   },
   "outputs": [],
   "source": [
    "# write task-7 solution\n",
    "\n",
    "# start writing your code here"
   ]
  },
  {
   "cell_type": "markdown",
   "metadata": {
    "id": "xwL1AMavplXR"
   },
   "source": [
    "•\t**Taks 8:** Calculate the confusion matrix for your model. Interpret it in detail in the report."
   ]
  },
  {
   "cell_type": "code",
   "execution_count": 9,
   "metadata": {
    "executionInfo": {
     "elapsed": 570,
     "status": "ok",
     "timestamp": 1702751363154,
     "user": {
      "displayName": "Abdus Salam",
      "userId": "07118743772361720296"
     },
     "user_tz": -660
    },
    "id": "lzf35nbXpl15"
   },
   "outputs": [],
   "source": [
    "# write task-8 solution\n",
    "\n",
    "# start writing your code here"
   ]
  },
  {
   "cell_type": "markdown",
   "metadata": {
    "id": "Uqa2g81Fp_yS"
   },
   "source": [
    "•\t**Task 9:** Calculate the accuracy, precision, recall and f-1 score of your model."
   ]
  },
  {
   "cell_type": "code",
   "execution_count": 10,
   "metadata": {
    "executionInfo": {
     "elapsed": 633,
     "status": "ok",
     "timestamp": 1702751371491,
     "user": {
      "displayName": "Abdus Salam",
      "userId": "07118743772361720296"
     },
     "user_tz": -660
    },
    "id": "ETtLrQQCp_eg"
   },
   "outputs": [],
   "source": [
    "# write task-9 solution\n",
    "\n",
    "# start writing your code here"
   ]
  },
  {
   "cell_type": "markdown",
   "metadata": {
    "id": "smIgRP-_qbiy"
   },
   "source": [
    "•\t**Task 10:** Show how 10-fold cross validation can be used to build a naïve bayes classifier and report the accuracy of this model."
   ]
  },
  {
   "cell_type": "code",
   "execution_count": 11,
   "metadata": {
    "executionInfo": {
     "elapsed": 409,
     "status": "ok",
     "timestamp": 1702751390639,
     "user": {
      "displayName": "Abdus Salam",
      "userId": "07118743772361720296"
     },
     "user_tz": -660
    },
    "id": "bSLbsTcGqbVx"
   },
   "outputs": [],
   "source": [
    "# write task-10 solution\n",
    "\n",
    "# start writing your code here"
   ]
  }
 ],
 "metadata": {
  "colab": {
   "authorship_tag": "ABX9TyOKPOJ96U3fQKVG5dyo9xAu",
   "provenance": [
    {
     "file_id": "1RltSWCk_2ngrLIZiN_LMBPRNhVNGL2HY",
     "timestamp": 1702750742243
    },
    {
     "file_id": "1_WLACB_W_WRko4dxtFh8Z1j-3pf7CjUq",
     "timestamp": 1702365322923
    }
   ]
  },
  "kernelspec": {
   "display_name": "Python 3 (ipykernel)",
   "language": "python",
   "name": "python3"
  },
  "language_info": {
   "codemirror_mode": {
    "name": "ipython",
    "version": 3
   },
   "file_extension": ".py",
   "mimetype": "text/x-python",
   "name": "python",
   "nbconvert_exporter": "python",
   "pygments_lexer": "ipython3",
   "version": "3.11.5"
  }
 },
 "nbformat": 4,
 "nbformat_minor": 1
}
