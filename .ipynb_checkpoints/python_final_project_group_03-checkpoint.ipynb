{
 "cells": [
  {
   "cell_type": "markdown",
   "metadata": {
    "id": "8X9UiWroS006"
   },
   "source": [
    "```\n",
    "Student-1\n",
    "Name: Fahim Wayez\n",
    "ID# 21-44499-1\n",
    "```\n",
    "\n",
    "```\n",
    "Student-2\n",
    "Name: MD. Ferdous Sazid\n",
    "ID# 21-44455-1\n",
    "```"
   ]
  },
  {
   "cell_type": "markdown",
   "metadata": {
    "id": "_6BgKVmW33zY"
   },
   "source": [
    "\n",
    "\n",
    "*   Mount your google drive.\n",
    "\n"
   ]
  },
  {
   "cell_type": "code",
   "execution_count": 4,
   "metadata": {
    "executionInfo": {
     "elapsed": 8,
     "status": "ok",
     "timestamp": 1702750911806,
     "user": {
      "displayName": "Abdus Salam",
      "userId": "07118743772361720296"
     },
     "user_tz": -660
    },
    "id": "hCe14AL95HJg"
   },
   "outputs": [],
   "source": [
    "# mount google drive if you are using Colab\n",
    "# otherewise, leave it blank\n",
    "\n",
    "# start writing your code here\n"
   ]
  },
  {
   "cell_type": "markdown",
   "metadata": {
    "id": "UPmu3D0D4ATq"
   },
   "source": [
    "\n",
    "\n",
    "*   Import necessary libraries.\n",
    "\n"
   ]
  },
  {
   "cell_type": "code",
   "execution_count": 3,
   "metadata": {
    "id": "AIJ_9jfN-nHz"
   },
   "outputs": [],
   "source": [
    "# load/import all required library\n",
    "\n",
    "# start writing your code here\n",
    "import pandas as pd\n"
   ]
  },
  {
   "cell_type": "markdown",
   "metadata": {
    "id": "GzuiaVZWTk14"
   },
   "source": [
    "•\t**Task 1:** Read/Load the dataset file in your program. Use Pandas library to complete this task."
   ]
  },
  {
   "cell_type": "code",
   "execution_count": 2,
   "metadata": {
    "executionInfo": {
     "elapsed": 5,
     "status": "ok",
     "timestamp": 1702751160455,
     "user": {
      "displayName": "Abdus Salam",
      "userId": "07118743772361720296"
     },
     "user_tz": -660
    },
    "id": "ODTUUpfd5RmF"
   },
   "outputs": [],
   "source": [
    "# write task-1 solution\n",
    "\n",
    "# start writing your code here\n",
    "df = pd.read_csv(\"FIFA World Cup 1930-2022 All Match Dataset.csv\")"
   ]
  },
  {
   "cell_type": "markdown",
   "metadata": {
    "id": "OI1NoXXRUlL1"
   },
   "source": [
    "•\t**Task 2:** Apply appropriate data cleaning techniques to the dataset. In this step, replace bad data using proper methods and do not delete any record except duplicate records. Use Pandas library to complete this task."
   ]
  },
  {
   "cell_type": "code",
   "execution_count": 3,
   "metadata": {
    "executionInfo": {
     "elapsed": 498,
     "status": "ok",
     "timestamp": 1702751181570,
     "user": {
      "displayName": "Abdus Salam",
      "userId": "07118743772361720296"
     },
     "user_tz": -660
    },
    "id": "rOWiXMWXUml5"
   },
   "outputs": [],
   "source": [
    "# write task-2 solution\n",
    "\n",
    "# start writing your code here"
   ]
  },
  {
   "cell_type": "markdown",
   "metadata": {
    "id": "gE4vCOLCYbyo"
   },
   "source": [
    "•\t**Task 3:** Draw graphs to analyze the frequency distributions of the features. Use Matplotlib library to complete this task."
   ]
  },
  {
   "cell_type": "code",
   "execution_count": 4,
   "metadata": {
    "executionInfo": {
     "elapsed": 616,
     "status": "ok",
     "timestamp": 1702751305651,
     "user": {
      "displayName": "Abdus Salam",
      "userId": "07118743772361720296"
     },
     "user_tz": -660
    },
    "id": "d-7CcCKOYc2c"
   },
   "outputs": [],
   "source": [
    "# write task-3 solution\n",
    "\n",
    "# start writing your code here"
   ]
  },
  {
   "cell_type": "markdown",
   "metadata": {
    "id": "1HpUmYugdwzX"
   },
   "source": [
    "•\t**Task 4:** Draw graphs to illustrate if there is any relationship between target column to any other columns of the dataset. Use Matplotlib library to complete this task."
   ]
  },
  {
   "cell_type": "code",
   "execution_count": 5,
   "metadata": {
    "executionInfo": {
     "elapsed": 4,
     "status": "ok",
     "timestamp": 1702751321327,
     "user": {
      "displayName": "Abdus Salam",
      "userId": "07118743772361720296"
     },
     "user_tz": -660
    },
    "id": "ZHh_mz-odxxs"
   },
   "outputs": [],
   "source": [
    "# write task-4 solution\n",
    "\n",
    "# start writing your code here"
   ]
  },
  {
   "cell_type": "markdown",
   "metadata": {
    "id": "Mq0z8eU8jo-_"
   },
   "source": [
    "•\t**Task 5:** Perform scaling to the features of the dataset. Remember that you will need to apply data conversion before performing scaling if it is needed."
   ]
  },
  {
   "cell_type": "code",
   "execution_count": 6,
   "metadata": {
    "executionInfo": {
     "elapsed": 564,
     "status": "ok",
     "timestamp": 1702751333458,
     "user": {
      "displayName": "Abdus Salam",
      "userId": "07118743772361720296"
     },
     "user_tz": -660
    },
    "id": "Pqt8yduljoe_"
   },
   "outputs": [],
   "source": [
    "# write task-5 solution\n",
    "\n",
    "# start writing your code here"
   ]
  },
  {
   "cell_type": "markdown",
   "metadata": {
    "id": "Ssx_k11qnMUy"
   },
   "source": [
    "•\t**Task 6:** Split your data into two parts: Training dataset and Testing dataset. You must use the function train_test_split() to complete this task and use value 123 as the value of the random_state parameter of this function."
   ]
  },
  {
   "cell_type": "code",
   "execution_count": 7,
   "metadata": {
    "executionInfo": {
     "elapsed": 485,
     "status": "ok",
     "timestamp": 1702751343228,
     "user": {
      "displayName": "Abdus Salam",
      "userId": "07118743772361720296"
     },
     "user_tz": -660
    },
    "id": "j_nxcGb_nRlV"
   },
   "outputs": [],
   "source": [
    "# write task-6 solution\n",
    "\n",
    "# start writing your code here"
   ]
  },
  {
   "cell_type": "markdown",
   "metadata": {
    "id": "IyzumDR6pFBe"
   },
   "source": [
    "•\t**Task 7:** Apply Naïve Bayes Classifier to the dataset. Build (train) your prediction model in this step."
   ]
  },
  {
   "cell_type": "code",
   "execution_count": 8,
   "metadata": {
    "executionInfo": {
     "elapsed": 7,
     "status": "ok",
     "timestamp": 1702751351402,
     "user": {
      "displayName": "Abdus Salam",
      "userId": "07118743772361720296"
     },
     "user_tz": -660
    },
    "id": "cFGx6ugvpEtz"
   },
   "outputs": [],
   "source": [
    "# write task-7 solution\n",
    "\n",
    "# start writing your code here"
   ]
  },
  {
   "cell_type": "markdown",
   "metadata": {
    "id": "xwL1AMavplXR"
   },
   "source": [
    "•\t**Taks 8:** Calculate the confusion matrix for your model. Interpret it in detail in the report."
   ]
  },
  {
   "cell_type": "code",
   "execution_count": 9,
   "metadata": {
    "executionInfo": {
     "elapsed": 570,
     "status": "ok",
     "timestamp": 1702751363154,
     "user": {
      "displayName": "Abdus Salam",
      "userId": "07118743772361720296"
     },
     "user_tz": -660
    },
    "id": "lzf35nbXpl15"
   },
   "outputs": [],
   "source": [
    "# write task-8 solution\n",
    "\n",
    "# start writing your code here"
   ]
  },
  {
   "cell_type": "markdown",
   "metadata": {
    "id": "Uqa2g81Fp_yS"
   },
   "source": [
    "•\t**Task 9:** Calculate the accuracy, precision, recall and f-1 score of your model."
   ]
  },
  {
   "cell_type": "code",
   "execution_count": 10,
   "metadata": {
    "executionInfo": {
     "elapsed": 633,
     "status": "ok",
     "timestamp": 1702751371491,
     "user": {
      "displayName": "Abdus Salam",
      "userId": "07118743772361720296"
     },
     "user_tz": -660
    },
    "id": "ETtLrQQCp_eg"
   },
   "outputs": [],
   "source": [
    "# write task-9 solution\n",
    "\n",
    "# start writing your code here"
   ]
  },
  {
   "cell_type": "markdown",
   "metadata": {
    "id": "smIgRP-_qbiy"
   },
   "source": [
    "•\t**Task 10:** Show how 10-fold cross validation can be used to build a naïve bayes classifier and report the accuracy of this model."
   ]
  },
  {
   "cell_type": "code",
   "execution_count": 11,
   "metadata": {
    "executionInfo": {
     "elapsed": 409,
     "status": "ok",
     "timestamp": 1702751390639,
     "user": {
      "displayName": "Abdus Salam",
      "userId": "07118743772361720296"
     },
     "user_tz": -660
    },
    "id": "bSLbsTcGqbVx"
   },
   "outputs": [],
   "source": [
    "# write task-10 solution\n",
    "\n",
    "# start writing your code here"
   ]
  }
 ],
 "metadata": {
  "colab": {
   "authorship_tag": "ABX9TyOKPOJ96U3fQKVG5dyo9xAu",
   "provenance": [
    {
     "file_id": "1RltSWCk_2ngrLIZiN_LMBPRNhVNGL2HY",
     "timestamp": 1702750742243
    },
    {
     "file_id": "1_WLACB_W_WRko4dxtFh8Z1j-3pf7CjUq",
     "timestamp": 1702365322923
    }
   ]
  },
  "kernelspec": {
   "display_name": "Python 3 (ipykernel)",
   "language": "python",
   "name": "python3"
  },
  "language_info": {
   "codemirror_mode": {
    "name": "ipython",
    "version": 3
   },
   "file_extension": ".py",
   "mimetype": "text/x-python",
   "name": "python",
   "nbconvert_exporter": "python",
   "pygments_lexer": "ipython3",
   "version": "3.11.5"
  }
 },
 "nbformat": 4,
 "nbformat_minor": 1
}
